{
 "cells": [
  {
   "cell_type": "code",
   "execution_count": 1,
   "id": "cf3f8388",
   "metadata": {},
   "outputs": [
    {
     "ename": "SystemExit",
     "evalue": "",
     "output_type": "error",
     "traceback": [
      "An exception has occurred, use %tb to see the full traceback.\n",
      "\u001b[1;31mSystemExit\u001b[0m\n"
     ]
    },
    {
     "name": "stderr",
     "output_type": "stream",
     "text": [
      "E:\\Anaconda\\lib\\site-packages\\IPython\\core\\interactiveshell.py:3452: UserWarning: To exit: use 'exit', 'quit', or Ctrl-D.\n",
      "  warn(\"To exit: use 'exit', 'quit', or Ctrl-D.\", stacklevel=1)\n"
     ]
    }
   ],
   "source": [
    "from tkinter import *\n",
    "from tkinter import filedialog\n",
    "import eel\n",
    "import IPython\n",
    "import cv2\n",
    "import requests\n",
    "import json\n",
    "\n",
    "eel.init('web')\n",
    "\n",
    "try:\n",
    "    @eel.expose\n",
    "    def encrypt():\n",
    "        \n",
    "        r=Tk()\n",
    "        \n",
    "        filename=filedialog.askopenfilename()\n",
    "        r.destroy()\n",
    "        \n",
    "        print(\"start\")\n",
    "        uri = \"http://localhost:8080/enc\"\n",
    "        \n",
    "        headers = {\n",
    "        'path':filename}\n",
    "        \n",
    "        response = requests.get(url=uri,headers=headers)\n",
    "        print(response)\n",
    "        return response\n",
    "        \n",
    "    @eel.expose\n",
    "    def decrypt():\n",
    "        \n",
    "        r=Tk()\n",
    "        \n",
    "        filename=filedialog.askopenfilename()\n",
    "        r.destroy()\n",
    "        \n",
    "        print(\"start\")\n",
    "        uri = \"http://localhost:8080/dec\"\n",
    "        \n",
    "        headers = {\n",
    "        'path':filename}\n",
    "        \n",
    "        response = requests.get(url=uri,headers=headers)\n",
    "        print(response)\n",
    "        return response\n",
    "    \n",
    "    @eel.expose()\n",
    "    def signup(name, email, password, cPass):\n",
    "        print(\"start\")\n",
    "        uri = \"http://localhost:8080/signup\"\n",
    "        \n",
    "        data = {\"name\":name,\n",
    "               \"email\":email,\n",
    "               \"password\":password,\n",
    "               \"cPass\":cPass}\n",
    "        headers = {\n",
    "        'Content-Type': 'application/json'}\n",
    "        \n",
    "        json_object = json.dumps(data) \n",
    "        print(json_object)\n",
    "        print(\"data made\", data)\n",
    "        response = requests.post(url=uri,headers=headers, data=json_object)\n",
    "        print(response)\n",
    "        return response\n",
    "    \n",
    "    @eel.expose()\n",
    "    def signin(email, password):\n",
    "        \n",
    "        uri = \"http://localhost:8080/signin\"\n",
    "        \n",
    "        data = {\"email\":email,\n",
    "               \"password\": password}\n",
    "        \n",
    "        headers = {\n",
    "        'Content-Type': 'application/json'}\n",
    "        \n",
    "        json_object = json.dumps(data) \n",
    "        print(json_object)\n",
    "        print(\"data made\", data)\n",
    "        response = requests.post(url=uri,headers=headers, data=json_object)\n",
    "        print(response)\n",
    "        return response\n",
    "        \n",
    "\n",
    "except:\n",
    "    print(\"Ignoring the expose as already exposed to JS\")\n",
    "\n",
    "eel.start('index.html', size=(1000, 550))\n",
    "\n"
   ]
  },
  {
   "cell_type": "code",
   "execution_count": null,
   "id": "9bbf9e2e",
   "metadata": {},
   "outputs": [],
   "source": []
  },
  {
   "cell_type": "code",
   "execution_count": null,
   "id": "7c971760",
   "metadata": {},
   "outputs": [],
   "source": []
  }
 ],
 "metadata": {
  "kernelspec": {
   "display_name": "Python 3 (ipykernel)",
   "language": "python",
   "name": "python3"
  },
  "language_info": {
   "codemirror_mode": {
    "name": "ipython",
    "version": 3
   },
   "file_extension": ".py",
   "mimetype": "text/x-python",
   "name": "python",
   "nbconvert_exporter": "python",
   "pygments_lexer": "ipython3",
   "version": "3.9.7"
  }
 },
 "nbformat": 4,
 "nbformat_minor": 5
}
